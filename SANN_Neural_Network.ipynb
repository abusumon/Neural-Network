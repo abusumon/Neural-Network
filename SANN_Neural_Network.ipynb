{
  "nbformat": 4,
  "nbformat_minor": 0,
  "metadata": {
    "colab": {
      "provenance": [],
      "authorship_tag": "ABX9TyMVcG8IVHAnh56+LgRfoZ52",
      "include_colab_link": true
    },
    "kernelspec": {
      "name": "python3",
      "display_name": "Python 3"
    },
    "language_info": {
      "name": "python"
    }
  },
  "cells": [
    {
      "cell_type": "markdown",
      "metadata": {
        "id": "view-in-github",
        "colab_type": "text"
      },
      "source": [
        "<a href=\"https://colab.research.google.com/github/abusumon/Neural-Network/blob/main/SANN_Neural_Network.ipynb\" target=\"_parent\"><img src=\"https://colab.research.google.com/assets/colab-badge.svg\" alt=\"Open In Colab\"/></a>"
      ]
    },
    {
      "cell_type": "code",
      "source": [
        "import torch\n",
        "import torch.nn as nn\n",
        "import torch.nn.functional as F\n",
        "import torch.optim as optim\n",
        "from torchvision import datasets, transforms\n",
        "from torch.utils.data import DataLoader"
      ],
      "metadata": {
        "id": "k4_qdIhv6kPu"
      },
      "execution_count": null,
      "outputs": []
    },
    {
      "cell_type": "code",
      "source": [
        "class SANNActivation(nn.Module):\n",
        "  def __init__(self, num_neurons, num_segment, shared=False) -> None:\n",
        "    super(SANNActivation, self).__init__()\n",
        "    self.num_neurons = num_neurons\n",
        "    self.num_segment = num_segment\n",
        "    self.shared = shared\n",
        "\n",
        "    if shared:\n",
        "      self.a = nn.Parameter(torch.zeros(num_segment))\n",
        "      self.b = nn.Parameter(torch.zeros(num_segment))\n",
        "    else:\n",
        "      self.a = nn.Parameter(torch.zeros(num_neurons, num_segment))\n",
        "      self.b = nn.Parameter(torch.zeros(num_neurons, num_segment))\n",
        "\n",
        "  def forward(self, x):\n",
        "    output = F.relu(x)\n",
        "    if self.shared:\n",
        "      for s in range(self.num_segment):\n",
        "        hinge = F.relu(self.b[s]-x)\n",
        "        output = output + self.a[s] * hinge\n",
        "    else:\n",
        "      if x.dim()==2:\n",
        "        for s in range(self.num_segment):\n",
        "          b_expand = self.b[:,s].unsqueeze(0)\n",
        "          a_expand = self.a[:,s].unsqueeze(0)\n",
        "          hinge = F.relu(b_expand-x)\n",
        "          output = output + a_expand * hinge\n",
        "      else:\n",
        "        for s in range(self.num_segment):\n",
        "          b_shape = [1, self.num_neurons] + [1]*(len(x.shape)-2)\n",
        "          a_shape = [1, self.num_neurons] + [1]*(len(x.shape)-2)\n",
        "          b_expand = self.b[:, s].view(b_shape)\n",
        "          a_expand = self.a[:, s].view(a_shape)\n",
        "          hinge = F.relu(b_expand-x)\n",
        "          output = output + a_expand * hinge\n",
        "    return output"
      ],
      "metadata": {
        "id": "Sd--zAcs62mk"
      },
      "execution_count": null,
      "outputs": []
    },
    {
      "cell_type": "code",
      "source": [
        "  # def activation(self, x_vals, neuron_idx = 0):\n",
        "  #   x_tensor = torch.tensor(x_vals, dtype=torch.float32)\n",
        "  #   if self.shared:\n",
        "  #     a_vals = self.a.detach()\n",
        "  #     b_vals = self.b.detach()\n",
        "  #   else:\n",
        "  #     a_vals = self.a[neuron_idx].detach()\n",
        "  #     b_vals = self.b[neuron_idx].detach()\n",
        "  #   output = torch.relu(x_tensor)\n",
        "  #   for s in range(self.num_segment):\n",
        "  #     hinge = torch.relu(b_vals[s]-x_tensor)\n",
        "  #     output = output + a_vals[s] * hinge\n",
        "  #   return output.numpy()"
      ],
      "metadata": {
        "id": "YN0EqBbeDPPh"
      },
      "execution_count": null,
      "outputs": []
    },
    {
      "cell_type": "code",
      "execution_count": null,
      "metadata": {
        "id": "d4l94GGAzCBD"
      },
      "outputs": [],
      "source": [
        "class DenseLayer(nn.Module):\n",
        "  def __init__(self, input_size, output_size, activation=None):\n",
        "    super().__init__()\n",
        "    self.w = nn.Parameter(torch.randn(input_size, output_size)*0.1)\n",
        "    self.b = nn.Parameter(torch.zeros(output_size))\n",
        "    self.activation = activation\n",
        "\n",
        "  def forward(self, x):\n",
        "    out = x @ self.w + self.b\n",
        "    if self.activation:\n",
        "      return self.activation(out)\n",
        "    return out"
      ]
    },
    {
      "cell_type": "code",
      "source": [
        "class SANNModel(nn.Module):\n",
        "    def __init__(self, input_size, hidden_size, output_size, num_segments):\n",
        "        super().__init__()\n",
        "        self.layer1 = DenseLayer(\n",
        "            input_size,\n",
        "            hidden_size,\n",
        "            activation=SANNActivation(hidden_size, num_segments)\n",
        "        )\n",
        "        self.layer2 = DenseLayer(\n",
        "            hidden_size,\n",
        "            hidden_size * 2,\n",
        "            activation=SANNActivation(hidden_size * 2, num_segments)\n",
        "        )\n",
        "        self.layer3 = DenseLayer(\n",
        "            hidden_size * 2,\n",
        "            hidden_size * 4,\n",
        "            activation=SANNActivation(hidden_size * 4, num_segments)\n",
        "        )\n",
        "        self.layer4 = DenseLayer(\n",
        "            hidden_size * 4,\n",
        "            hidden_size * 8,\n",
        "            activation=SANNActivation(hidden_size * 8, num_segments)\n",
        "        )\n",
        "        self.layer5 = DenseLayer(\n",
        "            hidden_size * 8,\n",
        "            output_size\n",
        "        )\n",
        "\n",
        "    def forward(self, x):\n",
        "        x = self.layer1(x)\n",
        "        x = self.layer2(x)\n",
        "        x = self.layer3(x)\n",
        "        x = self.layer4(x)\n",
        "        x = self.layer5(x)\n",
        "        return x"
      ],
      "metadata": {
        "id": "KGB5psFhzF6S"
      },
      "execution_count": null,
      "outputs": []
    },
    {
      "cell_type": "code",
      "source": [
        "class Trainer:\n",
        "    def __init__(self, model, device=None):\n",
        "        self.model = model\n",
        "        self.device = device if device else torch.device('cuda' if torch.cuda.is_available() else 'cpu')\n",
        "        self.model.to(self.device)\n",
        "        self.criterion = None\n",
        "        self.optimizer = None\n",
        "\n",
        "    def compile(self, optimizer, loss):\n",
        "        self.optimizer = optimizer\n",
        "        self.criterion = loss\n",
        "\n",
        "    def fit(self, train_loader, epochs=1, val_loader=None):\n",
        "        for epoch in range(epochs):\n",
        "            self.model.train()\n",
        "            running_loss = 0\n",
        "            for batch_idx, (data, target) in enumerate(train_loader):\n",
        "                data, target = data.to(self.device), target.to(self.device)\n",
        "                self.optimizer.zero_grad()\n",
        "                output = self.model(data)\n",
        "                loss = self.criterion(output, target)\n",
        "                loss.backward()\n",
        "                self.optimizer.step()\n",
        "                running_loss += loss.item()\n",
        "\n",
        "            avg_loss = running_loss / len(train_loader)\n",
        "            print(f\"Epoch {epoch+1}/{epochs}, Loss: {avg_loss:.4f}\")\n",
        "\n",
        "            if val_loader:\n",
        "                val_acc = self.evaluate(val_loader)\n",
        "                print(f\"Validation Accuracy: {val_acc:.2f}%\")\n",
        "\n",
        "    def evaluate(self, data_loader):\n",
        "        self.model.eval()\n",
        "        correct = 0\n",
        "        total = 0\n",
        "        with torch.no_grad():\n",
        "            for data, target in data_loader:\n",
        "                data, target = data.to(self.device), target.to(self.device)\n",
        "                output = self.model(data)\n",
        "                _, preds = torch.max(output, 1)\n",
        "                correct += (preds == target).sum().item()\n",
        "                total += target.size(0)\n",
        "        return 100 * correct / total\n",
        "\n",
        "    def predict(self, data_loader):\n",
        "        self.model.eval()\n",
        "        all_preds = []\n",
        "        with torch.no_grad():\n",
        "            for data in data_loader:\n",
        "                if isinstance(data, (list, tuple)):\n",
        "                    inputs = data[0]\n",
        "                else:\n",
        "                    inputs = data\n",
        "                inputs = inputs.to(self.device)\n",
        "                output = self.model(inputs)\n",
        "                _, preds = torch.max(output, 1)\n",
        "                all_preds.append(preds.cpu())\n",
        "        return torch.cat(all_preds)"
      ],
      "metadata": {
        "id": "kNEh8lHwVUA2"
      },
      "execution_count": null,
      "outputs": []
    },
    {
      "cell_type": "code",
      "source": [
        "input_size = 784\n",
        "hidden_size = 128\n",
        "output_size = 10\n",
        "num_segments = 4\n",
        "batch_size = 64\n",
        "epochs = 5\n",
        "lr = 0.001"
      ],
      "metadata": {
        "id": "Z7-f51OwUstT"
      },
      "execution_count": null,
      "outputs": []
    },
    {
      "cell_type": "code",
      "source": [
        "device = torch.device(\"cuda\" if torch.cuda.is_available() else \"cpu\")"
      ],
      "metadata": {
        "id": "sCinUHNOTJKe"
      },
      "execution_count": null,
      "outputs": []
    },
    {
      "cell_type": "code",
      "source": [
        "transform = transforms.Compose([\n",
        "    transforms.ToTensor(),\n",
        "    transforms.Lambda(lambda x: x.view(-1))  # flatten to 784\n",
        "])"
      ],
      "metadata": {
        "id": "4hukPdtOUas6"
      },
      "execution_count": null,
      "outputs": []
    },
    {
      "cell_type": "code",
      "source": [
        "train_dataset = datasets.MNIST(root='./data', train=True, download=True, transform=transform)\n",
        "test_dataset = datasets.MNIST(root='./data', train=False, download=True, transform=transform)\n",
        "\n",
        "train_loader = DataLoader(train_dataset, batch_size=batch_size, shuffle=True)\n",
        "test_loader = DataLoader(test_dataset, batch_size=batch_size, shuffle=False)"
      ],
      "metadata": {
        "id": "KDTJlxg5UfGg"
      },
      "execution_count": null,
      "outputs": []
    },
    {
      "cell_type": "code",
      "source": [
        "model = SANNModel(input_size, hidden_size, output_size, num_segments).to(device)\n",
        "criterion = nn.CrossEntropyLoss()\n",
        "optimizer = optim.Adam(model.parameters(), lr=lr)"
      ],
      "metadata": {
        "id": "ugC_VM2SUi8e"
      },
      "execution_count": null,
      "outputs": []
    },
    {
      "cell_type": "code",
      "source": [
        "model = SANNModel(input_size, hidden_size, output_size, num_segments).to(device)\n",
        "trainer = Trainer(model, device=device)"
      ],
      "metadata": {
        "id": "rB7wu8SFUwa2"
      },
      "execution_count": null,
      "outputs": []
    },
    {
      "cell_type": "code",
      "source": [
        "trainer.compile(\n",
        "    optimizer=optim.Adam(model.parameters(), lr=lr),\n",
        "    loss=nn.CrossEntropyLoss()\n",
        ")"
      ],
      "metadata": {
        "id": "U5DB5NDTU12g"
      },
      "execution_count": null,
      "outputs": []
    },
    {
      "cell_type": "code",
      "source": [
        "import numpy\n",
        "print(numpy.__version__)"
      ],
      "metadata": {
        "colab": {
          "base_uri": "https://localhost:8080/"
        },
        "id": "59c0yvHyV2V5",
        "outputId": "de7f0bdd-2d00-43ec-8e8b-7158589840b3"
      },
      "execution_count": null,
      "outputs": [
        {
          "output_type": "stream",
          "name": "stdout",
          "text": [
            "2.3.2\n"
          ]
        }
      ]
    },
    {
      "cell_type": "code",
      "source": [
        "import PIL\n",
        "print(PIL.__version__)"
      ],
      "metadata": {
        "colab": {
          "base_uri": "https://localhost:8080/"
        },
        "id": "Zp71GpbdXEP3",
        "outputId": "3d076500-0a03-45c3-d840-15493732bdb0"
      },
      "execution_count": null,
      "outputs": [
        {
          "output_type": "stream",
          "name": "stdout",
          "text": [
            "11.3.0\n"
          ]
        }
      ]
    },
    {
      "cell_type": "code",
      "source": [
        "trainer.fit(train_loader, epochs=epochs, val_loader=test_loader)"
      ],
      "metadata": {
        "colab": {
          "base_uri": "https://localhost:8080/"
        },
        "id": "sI7kMKmtVBUT",
        "outputId": "e4bd8d4b-6e33-4ac5-c5a7-92ae3106b6cd"
      },
      "execution_count": null,
      "outputs": [
        {
          "output_type": "stream",
          "name": "stdout",
          "text": [
            "Epoch 1/5, Loss: 0.2895\n",
            "Validation Accuracy: 95.78%\n",
            "Epoch 2/5, Loss: 0.1101\n",
            "Validation Accuracy: 95.84%\n",
            "Epoch 3/5, Loss: 0.0827\n",
            "Validation Accuracy: 96.46%\n",
            "Epoch 4/5, Loss: 0.0705\n",
            "Validation Accuracy: 96.94%\n",
            "Epoch 5/5, Loss: 0.0598\n",
            "Validation Accuracy: 97.24%\n"
          ]
        }
      ]
    },
    {
      "cell_type": "code",
      "source": [
        "test_acc = trainer.evaluate(test_loader)\n",
        "print(f\"Test Accuracy: {test_acc:.2f}%\")"
      ],
      "metadata": {
        "id": "ms5s6UmuVt1i",
        "colab": {
          "base_uri": "https://localhost:8080/"
        },
        "outputId": "1f0e5e5a-55b8-481f-f6b0-0b02415402e1"
      },
      "execution_count": null,
      "outputs": [
        {
          "output_type": "stream",
          "name": "stdout",
          "text": [
            "Test Accuracy: 97.24%\n"
          ]
        }
      ]
    }
  ]
}